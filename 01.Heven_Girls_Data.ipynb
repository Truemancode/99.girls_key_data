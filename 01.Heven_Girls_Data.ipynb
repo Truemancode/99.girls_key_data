{
 "cells": [
  {
   "cell_type": "code",
   "execution_count": 15,
   "metadata": {},
   "outputs": [],
   "source": [
    "# !pip install selenium\n",
    "# !pip install bs4\n",
    "# !pip3 install helium"
   ]
  },
  {
   "cell_type": "code",
   "execution_count": 16,
   "metadata": {},
   "outputs": [],
   "source": [
    "from selenium import webdriver\n",
    "from bs4 import BeautifulSoup\n",
    "from helium import *\n",
    "import requests\n",
    "import time"
   ]
  },
  {
   "cell_type": "code",
   "execution_count": 17,
   "metadata": {},
   "outputs": [],
   "source": [
    "jenny_heven_id = \"1200000193\"\n",
    "jenny_heven_pass = \"AqBDTJG6\"\n",
    "exce_heven_id = \"12119523\"\n",
    "exce_heven_pass = \"d555rnKv\"\n",
    "fine_heven_id = \"12357\"\n",
    "fine_heven_pass = \"RJtTKh\"\n",
    "nuruteka_heven_id = \"1211482\"\n",
    "nuruteka_heven_pass = \"Nju2kpjM\"\n",
    "orekiss_heven_id = \"123795\"\n",
    "orekiss_heven_pass = \"j2Vi6L7H\"\n",
    "# 1jenny\n",
    "# 2exce\n",
    "# 3fine\n",
    "# 4nuruteka\n",
    "# 5orekiss"
   ]
  },
  {
   "cell_type": "code",
   "execution_count": 18,
   "metadata": {},
   "outputs": [
    {
     "name": "stdin",
     "output_type": "stream",
     "text": [
      "店番号入力 1\n"
     ]
    }
   ],
   "source": [
    "shop_namber = input(\"店番号入力\")"
   ]
  },
  {
   "cell_type": "code",
   "execution_count": 19,
   "metadata": {},
   "outputs": [],
   "source": [
    "if shop_namber == \"1\":\n",
    "    heven_id = jenny_heven_id\n",
    "    heven_pass = jenny_heven_pass\n",
    "elif  shop_namber == \"2\":\n",
    "    heven_id = exce_heven_id\n",
    "    heven_pass = exce_heven_pass\n",
    "elif  shop_namber == \"3\":\n",
    "    heven_id = fine_heven_id\n",
    "    heven_pass = fine_heven_pass\n",
    "elif  shop_namber == \"4\":\n",
    "    heven_id = nuruteka_heven_id\n",
    "    heven_pass = nuruteka_heven_pass\n",
    "elif  shop_namber == \"5\":\n",
    "    heven_id = orekiss_heven_id\n",
    "    heven_pass = orekiss_heven_pass\n",
    "else:\n",
    "    print(\"店舗名がありません\")"
   ]
  },
  {
   "cell_type": "code",
   "execution_count": 20,
   "metadata": {},
   "outputs": [],
   "source": [
    "driver = start_chrome(\"https://newmanager.cityheaven.net\")"
   ]
  },
  {
   "cell_type": "code",
   "execution_count": 21,
   "metadata": {},
   "outputs": [],
   "source": [
    "driver.find_element_by_xpath(\"/html/body/div/form[2]/table/tbody/tr[1]/td/table/tbody/tr[1]/td[2]/input\").send_keys(heven_id)"
   ]
  },
  {
   "cell_type": "code",
   "execution_count": 22,
   "metadata": {},
   "outputs": [],
   "source": [
    "driver.find_element_by_xpath(\"/html/body/div/form[2]/table/tbody/tr[1]/td/table/tbody/tr[2]/td[2]/input\").send_keys(heven_pass)"
   ]
  },
  {
   "cell_type": "code",
   "execution_count": 23,
   "metadata": {},
   "outputs": [],
   "source": [
    "login = driver.find_element_by_xpath(\"/html/body/div/form[2]/table/tbody/tr[2]/td/button/img\")\n",
    "login.click()"
   ]
  },
  {
   "cell_type": "code",
   "execution_count": 24,
   "metadata": {},
   "outputs": [],
   "source": [
    "click(\"女の子情報\")"
   ]
  },
  {
   "cell_type": "code",
   "execution_count": 25,
   "metadata": {},
   "outputs": [],
   "source": [
    "girlslist = []\n",
    "girlsname = driver.find_elements_by_tag_name(\"h5\")\n",
    "for girlname in girlsname:\n",
    "    girlslist.append(girlname.text)\n",
    "#     print(girlslist)\n",
    "# girlsname[0].text\n",
    "# len(girlslist)\n",
    "# for x in range(len(girlslist)):\n",
    "#     girlsname[x].text"
   ]
  },
  {
   "cell_type": "code",
   "execution_count": 26,
   "metadata": {},
   "outputs": [],
   "source": [
    "click(\"アクセス数\")"
   ]
  },
  {
   "cell_type": "code",
   "execution_count": 27,
   "metadata": {},
   "outputs": [],
   "source": [
    "girlac = driver.find_element_by_xpath(\"/html/body/div[3]/div/div/div/div[1]/ul/li[2]/a\")\n",
    "girlac.click()"
   ]
  },
  {
   "cell_type": "code",
   "execution_count": 28,
   "metadata": {},
   "outputs": [],
   "source": [
    "for x in range(len(girlslist)):\n",
    "    girlsname = girlslist[x]\n",
    "    girlsname = girlsname[:3]\n",
    "    click(girlsname)\n",
    "    driver.execute_script(\"window.open()\") \n",
    "    driver.switch_to.window(driver.window_handles[x + 1]) \n",
    "    go_to(\"https://newmanager.cityheaven.net/C2TokeiGirl.php?shopdir=tt_jenny\")"
   ]
  },
  {
   "cell_type": "code",
   "execution_count": null,
   "metadata": {},
   "outputs": [],
   "source": []
  },
  {
   "cell_type": "code",
   "execution_count": null,
   "metadata": {},
   "outputs": [],
   "source": []
  }
 ],
 "metadata": {
  "kernelspec": {
   "display_name": "Python 3 (ipykernel)",
   "language": "python",
   "name": "python3"
  },
  "language_info": {
   "codemirror_mode": {
    "name": "ipython",
    "version": 3
   },
   "file_extension": ".py",
   "mimetype": "text/x-python",
   "name": "python",
   "nbconvert_exporter": "python",
   "pygments_lexer": "ipython3",
   "version": "3.9.13"
  }
 },
 "nbformat": 4,
 "nbformat_minor": 4
}
